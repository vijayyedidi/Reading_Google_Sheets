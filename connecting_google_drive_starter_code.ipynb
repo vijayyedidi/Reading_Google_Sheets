{
  "nbformat": 4,
  "nbformat_minor": 0,
  "metadata": {
    "colab": {
      "private_outputs": true,
      "provenance": [],
      "authorship_tag": "ABX9TyM1ApI+dz5LjtMaEpULJJrG",
      "include_colab_link": true
    },
    "kernelspec": {
      "name": "python3",
      "display_name": "Python 3"
    },
    "language_info": {
      "name": "python"
    }
  },
  "cells": [
    {
      "cell_type": "markdown",
      "metadata": {
        "id": "view-in-github",
        "colab_type": "text"
      },
      "source": [
        "<a href=\"https://colab.research.google.com/github/vijayyedidi/Reading_Google_Sheets/blob/main/connecting_google_drive_starter_code.ipynb\" target=\"_parent\"><img src=\"https://colab.research.google.com/assets/colab-badge.svg\" alt=\"Open In Colab\"/></a>"
      ]
    },
    {
      "cell_type": "code",
      "execution_count": null,
      "metadata": {
        "id": "7VibKBUo7Xlf"
      },
      "outputs": [],
      "source": [
        "## Main data processing packages\n",
        "import pandas as pd\n",
        "pd.options.mode.chained_assignment = None  # default='warn'\n",
        "pd.set_option('display.max_columns', None)\n",
        "pd.set_option('display.max_rows',None)\n",
        "pd.set_option('display.float_format', '{:.2f}'.format)\n",
        "import numpy as np\n",
        "\n",
        "from tqdm import tqdm\n",
        "import sys\n",
        "import os\n",
        "\n",
        "\n",
        "## Visualization\n",
        "import plotly.graph_objects as go\n",
        "import plotly.express as px\n",
        "import seaborn as sns\n",
        "import matplotlib.pyplot as plt\n",
        "\n",
        "## Google Imports\n",
        "from google.colab import auth\n",
        "from google.cloud import bigquery\n",
        "import gspread\n",
        "from google.auth import default\n",
        "import gspread_dataframe as gd\n",
        "try:\n",
        "  auth.authenticate_user()\n",
        "  creds, _ = default()\n",
        "  gc = gspread.authorize(creds)\n",
        "  print('authenticated')\n",
        "\n",
        "except:\n",
        "  print('authentication failed')\n",
        "  sys.exit(1)\n",
        "\n",
        "class ReadDrive: ## Class to connect to google sheets and read/write data\n",
        "  ## Read Google Sheets Link to be able to read to or write sheets\n",
        "\n",
        "  def __init__(self, sheet_url, bq = False):\n",
        "\n",
        "    self.gc = gspread.authorize(creds) ## Open the function to be able to read Google Sheets\n",
        "    self.sheet_url = sheet_url\n",
        "    self.wb = self.gc.open_by_url(self.sheet_url)\n",
        "\n",
        "  def ReadSheet(self, sheet_name):\n",
        "    ## Given the sheet name read in the sheet data\n",
        "    self.df = pd.DataFrame(self.wb.worksheet(sheet_name).get_all_values()) ## Save as DataFrame\n",
        "    self.df = pd.DataFrame(self.df.values[1:],columns = self.df.iloc[0]) ## Make the first Column the header, values below\n",
        "    self.df = self.determine_data_type(self.df)\n",
        "\n",
        "    return self.df\n",
        "\n",
        "  def WriteSheet(self, sheet_name, df):\n",
        "    ## Given the sheet name on a spreadsheet write data to this sheet\n",
        "    try:\n",
        "      sheet = self.wb.worksheet(sheet_name)\n",
        "    except:\n",
        "      sheet = self.wb.add_worksheet(title = sheet_name, rows = '100', cols = '20')\n",
        "    gd.set_with_dataframe(sheet, df)\n",
        "\n",
        "  def determine_data_type(self, df):\n",
        "    for col in df.columns:\n",
        "      df[col] = df[col].fillna('').astype(str).str.replace(',', '', regex = True).str.replace('$', '', regex = True)\n",
        "      if df[col].str.contains(r'[^0-9\\.]').any() or df[col].str.contains(r'[A-Za-z]').any():\n",
        "        df[col] = df[col].astype(str)\n",
        "      else:\n",
        "        df[col] = pd.to_numeric(df[col], errors = 'coerce')\n",
        "        df[col] = df[col].astype(float)\n",
        "    return df.replace('', np.nan)\n",
        "\n",
        "class Read_Big_Query(): ## Class to connect to bigquery and pull into dataframes\n",
        "  def __init__(self):\n",
        "    self.project = 'essence-analytics-dwh'\n",
        "    self.location = 'US'\n",
        "    self.client = bigquery.Client(project = self.project, location = self.location)\n",
        "    try:\n",
        "      auth.authenticate_user()\n",
        "      print(\"Authenticated\")\n",
        "    except:\n",
        "      print('Unable to Authenticate User')\n",
        "      sys.exit(1)\n",
        "  def bq_pull(self, query):\n",
        "    query_job = self.client.query(query)\n",
        "    query_job = query_job.to_dataframe()\n",
        "    query_job = query_job.replace(\"<NA>\", np.nan)\n",
        "    return query_job"
      ]
    },
    {
      "cell_type": "code",
      "source": [],
      "metadata": {
        "id": "5_UtaO5BK3FP"
      },
      "execution_count": null,
      "outputs": []
    }
  ]
}