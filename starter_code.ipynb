{
  "nbformat": 4,
  "nbformat_minor": 0,
  "metadata": {
    "colab": {
      "private_outputs": true,
      "provenance": []
    },
    "kernelspec": {
      "name": "python3",
      "display_name": "Python 3"
    },
    "language_info": {
      "name": "python"
    }
  },
  "cells": [
    {
      "cell_type": "code",
      "execution_count": null,
      "metadata": {
        "id": "7VibKBUo7Xlf"
      },
      "outputs": [],
      "source": [
        "import pandas as pd \n",
        "import numpy as np\n",
        "import sys\n",
        "from google.colab import auth \n",
        "import gspread\n",
        "from google.auth import default\n",
        "import gspread_dataframe as gd\n",
        "try: \n",
        "  auth.authenticate_user()\n",
        "  creds, _ = default()\n",
        "  print('authenticated') \n",
        "\n",
        "except: \n",
        "  print('authentication failed') \n",
        "\n",
        "# setup\n",
        "gc = gspread.authorize(creds)\n",
        "pd.options.mode.chained_assignment = None  # default='warn'\n",
        "pd.set_option('display.max_columns', None) \n",
        "pd.set_option('display.max_rows',None)\n",
        "\n",
        "\n",
        "\n",
        "\n",
        "class ReadDrive: \n",
        "  ## Read Google Sheets Link to be able to read to or write sheets\n",
        "\n",
        "  def __init__(self, sheet_url): \n",
        "\n",
        "    self.gc = gspread.authorize(creds) ## Open the function to be able to read Google Sheets\n",
        "    self.sheet_url = sheet_url\n",
        "    self.wb = self.gc.open_by_url(self.sheet_url) \n",
        "\n",
        "  def ReadSheet(self, sheet_name): \n",
        "    ## Given the sheet name read in the sheet data \n",
        "    self.df = pd.DataFrame(self.wb.worksheet(sheet_name).get_all_values()) ## Save as DataFrame\n",
        "    self.df = pd.DataFrame(self.df.values[1:],columns = self.df.iloc[0]) ## Make the first Column the header, values below\n",
        "    self.df = self.df.replace(r'^\\s*$', np.nan, regex=True) \n",
        "    for col in self.df.columns: \n",
        "      try: \n",
        "        self.df[col] = self.df[col].astype(float)\n",
        "      except: \n",
        "        pass\n",
        "                           \n",
        "    return self.df \n",
        "\n",
        "  def WriteSheet(self, sheet_name, df): \n",
        "    ## Given the sheet name on a spreadsheet write data to this sheet \n",
        "    try: \n",
        "      sheet = self.wb.worksheet(sheet_name) \n",
        "    except: \n",
        "      sheet = self.wb.add_worksheet(title = sheet_name, rows = '100', cols = '20') \n",
        "    gd.set_with_dataframe(sheet, df)"
      ]
    }
  ]
}